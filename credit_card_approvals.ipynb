{
 "cells": [
  {
   "cell_type": "markdown",
   "metadata": {},
   "source": [
    "# **Credit-Card-Approvals**\n",
    "\n",
    "## Overview\n",
    "\n",
    "Credit Card Approvals is the process by which a bank or financial institution evaluates a person's credit-worthiness to decide whether or not to approve their application for a credit card.\n",
    "\n",
    "#### Data Description\n",
    "This dataset includes transactions over two days, with 492 fraud cases out of a total of 284,807 transactions. The data is highly The dataset comprises two main files, `Credit_card.csv` and `Credit_card_label.csv`, which together provide detailed information about credit card applicants and the outcomes of their applications. This dataset provides a comprehensive overview of the applicant's demographic, financial, and employment information, which can be used to analyze factors affecting credit card approval decisions. Below is a description of each feature in the datasets:\n",
    "\n",
    "##### 1. **`Credit_card.csv`**\n",
    "- `Ind_ID`: Unique identifier for each client.\n",
    "- `Gender`: Gender of the applicant (e.g., Male, Female).\n",
    "- `Car_owner`: Indicates whether the applicant owns a car (Yes/No).\n",
    "- `Propert_owner`: Indicates whether the applicant owns property (Yes/No).\n",
    "- `Children`: The number of children the applicant has.\n",
    "- `Annual_income`: The annual income of the applicant.\n",
    "- `Type_Income`: Type of income the applicant receives (e.g., Salary, Pension, Business).\n",
    "- `Education`: The highest level of education attained by the applicant (e.g., High School, Bachelor’s, Master’s).\n",
    "- `Marital_status`: The marital status of the applicant (e.g., Single, Married, Divorced).\n",
    "- `Housing_type`: The applicant’s living situation (e.g., Renting, Homeowner, Living with parents).\n",
    "- `Birthday_count`: The applicant's age represented as the backward count of days from the current day (0 means today, -1 means yesterday, etc.).\n",
    "- `Employed_days`: The number of days since the applicant started their current employment, represented as a backward count from the current day (0 means today, positive values indicate the applicant is currently unemployed).\n",
    "- `Mobile_phone`: Indicates whether the applicant has a mobile phone (Yes/No).\n",
    "- `Work_phone`: Indicates whether the applicant has a work phone (Yes/No).\n",
    "- `Phone`: Indicates whether the applicant has any phone number (Yes/No).\n",
    "- `EMAIL_ID`: Indicates whether the applicant has an email address (Yes/No).\n",
    "- `Type_Occupation`: The occupation type of the applicant (e.g., Manager, Sales, Laborer).\n",
    "- `Family_Members`: The size of the applicant's family, including themselves.\n",
    "\n",
    "##### 2. **`Credit_card_label.csv`**\n",
    "- `ID`: The unique identifier (Ind_ID) used to join with the application data in the Credit_Card.csv file.\n",
    "- `Label`: The outcome of the credit card application, where 0 indicates the application was approved, and 1 indicates it was rejected.\n",
    "\n",
    "\n",
    "\n"
   ]
  },
  {
   "cell_type": "markdown",
   "metadata": {},
   "source": [
    "<a id=\"cont\"></a>\n",
    "\n",
    "## Table of Contents\n",
    "\n",
    "- [1. Import Packages](#one)\n",
    "- [2. Load Data](#two)\n",
    "- [3. Exploratory Data Analysis (EDA)](#three)\n",
    "- [4. Feature Engineering](#four)\n",
    "- [5. Modeling](#five)\n",
    "- [6. Model Explanation](#six)\n",
    "- [7. Model Evaluation](#seven)\n",
    "- [8. Model Deployment](#eight)\n",
    "- [9. Conclusion](#nine)"
   ]
  },
  {
   "cell_type": "markdown",
   "metadata": {},
   "source": [
    "<a id=\"one\"></a>\n",
    "# 1. Import Packages\n",
    "[Back to Table of Contents](#cont)\n",
    "\n",
    "---"
   ]
  },
  {
   "cell_type": "code",
   "execution_count": null,
   "metadata": {
    "vscode": {
     "languageId": "plaintext"
    }
   },
   "outputs": [],
   "source": [
    "import pandas as pd\n",
    "import numpy as np\n",
    "import nltk\n",
    "import string\n",
    "from nltk.corpus import stopwords\n",
    "from sklearn.feature_extraction.text import CountVectorizer\n",
    "from sklearn.feature_extraction.text import TfidfTransformer\n",
    "from sklearn.naive_bayes import MultinomialNB\n",
    "from sklearn.ensemble import RandomForestClassifier\n",
    "from sklearn.model_selection import train_test_split\n",
    "from sklearn.pipeline import Pipeline\n",
    "from sklearn.metrics import confusion_matrix\n",
    "from sklearn.metrics import classification_report\n",
    "import matplotlib.pyplot as plt\n",
    "import seaborn as sns\n",
    "%matplotlib inline\n",
    "import joblib"
   ]
  }
 ],
 "metadata": {
  "language_info": {
   "name": "python"
  }
 },
 "nbformat": 4,
 "nbformat_minor": 2
}
