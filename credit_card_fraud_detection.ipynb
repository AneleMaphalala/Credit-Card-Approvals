{
 "cells": [
  {
   "cell_type": "markdown",
   "metadata": {},
   "source": [
    "# **Credit-Card-Fraud-Detection**\n",
    "\n",
    "## Overview\n",
    "\n",
    "Credit Card Fraud Detection involves identifying and preventing unauthorized or suspicious transactions on credit card accounts. \n",
    "\n",
    "#### Data Description\n",
    "This dataset includes transactions over two days, with 492 fraud cases out of a total of 284,807 transactions. The data is highly imbalanced, with fraudulent transactions making up only 0.172% of the total.\n",
    "\n",
    "The dataset features only numerical inputs derived from PCA (Principal Component Analysis) transformations. Due to confidentiality, the original features and detailed background information cannot be provided. Features V1 through V28 are the PCA-derived principal components, while 'Time' and 'Amount' are the only features not transformed by PCA. 'Time' represents the number of seconds elapsed since the first transaction in the dataset, and 'Amount' is the transaction amount, which can be used for cost-sensitive learning depending on the example. The 'Class' feature indicates whether a transaction is fraudulent (1) or not (0).\n",
    "\n",
    "\n",
    "\n"
   ]
  },
  {
   "cell_type": "markdown",
   "metadata": {},
   "source": [
    "<a id=\"cont\"></a>\n",
    "\n",
    "## Table of Contents\n",
    "\n",
    "- [1. Import Packages](#one)\n",
    "- [2. Load Data](#two)\n",
    "- [3. Exploratory Data Analysis (EDA)](#three)\n",
    "- [4. Feature Engineering](#four)\n",
    "- [5. Modeling](#five)\n",
    "- [6. Model Explanation](#six)\n",
    "- [7. Model Evaluation](#seven)\n",
    "- [8. Model Deployment](#eight)\n",
    "- [9. Conclusion](#nine)"
   ]
  },
  {
   "cell_type": "markdown",
   "metadata": {},
   "source": [
    "<a id=\"one\"></a>\n",
    "# 1. Import Packages\n",
    "[Back to Table of Contents](#cont)\n",
    "\n",
    "---"
   ]
  },
  {
   "cell_type": "code",
   "execution_count": null,
   "metadata": {
    "vscode": {
     "languageId": "plaintext"
    }
   },
   "outputs": [],
   "source": [
    "import pandas as pd\n",
    "import numpy as np\n",
    "import nltk\n",
    "import string\n",
    "from nltk.corpus import stopwords\n",
    "from sklearn.feature_extraction.text import CountVectorizer\n",
    "from sklearn.feature_extraction.text import TfidfTransformer\n",
    "from sklearn.naive_bayes import MultinomialNB\n",
    "from sklearn.ensemble import RandomForestClassifier\n",
    "from sklearn.model_selection import train_test_split\n",
    "from sklearn.pipeline import Pipeline\n",
    "from sklearn.metrics import confusion_matrix\n",
    "from sklearn.metrics import classification_report\n",
    "import matplotlib.pyplot as plt\n",
    "import seaborn as sns\n",
    "%matplotlib inline\n",
    "import joblib"
   ]
  }
 ],
 "metadata": {
  "language_info": {
   "name": "python"
  }
 },
 "nbformat": 4,
 "nbformat_minor": 2
}
